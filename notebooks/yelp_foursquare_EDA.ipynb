{
 "cells": [
  {
   "cell_type": "code",
   "execution_count": 2,
   "metadata": {},
   "outputs": [],
   "source": [
    "import pandas as pd\n",
    "import requests\n",
    "import os\n",
    "import time"
   ]
  },
  {
   "cell_type": "markdown",
   "metadata": {},
   "source": [
    "# Foursquare"
   ]
  },
  {
   "cell_type": "markdown",
   "metadata": {},
   "source": [
    "Send a request to Foursquare with a small radius (1000m) for all the bike stations in your city of choice. "
   ]
  },
  {
   "cell_type": "code",
   "execution_count": 3,
   "metadata": {},
   "outputs": [],
   "source": [
    "# Loading the city bike dataset for Dublin\n",
    "df_dublin = pd.read_csv('/Users/ruu/documents/LHL/Project-Statistical-Modelling/data/dublin_bikes.csv')\n",
    "coordinates = df_dublin\n",
    "\n",
    "# Setting up url, api_key and headers for Foursquare API\n",
    "url = 'https://places-api.foursquare.com/places/search'\n",
    "api_key = os.environ['MYTOKEN']\n",
    "headers = {\n",
    "            \"accept\": \"application/json\",\n",
    "            \"Authorization\": f\"Bearer {api_key}\",\n",
    "            \"X-Places-Api-Version\": \"2025-06-17\"\n",
    "          }\n",
    "# Iterating through all coordinates found in df_dublin dataset for the Foursquare API\n",
    "all_results = []\n",
    "for idx, row in coordinates.iterrows():\n",
    "    latlon = f\"{row['latitude']},{row['longitude']}\"\n",
    "    params = {\n",
    "        \"ll\": latlon,\n",
    "        \"radius\": 350,   # Search radius was progressively reduced from 1000m to 350m to avoid consistently maximizing the API's result limit\n",
    "        \"fsq_category_ids\": \"4bf58dd8d48988d1e0931735\",  # Category_id code for coffee shops\n",
    "         \"limit\": 50   # Limit set to 50\n",
    "            }\n",
    "    response = requests.get(url=url, headers=headers, params=params)\n",
    "    if response.status_code == 200:\n",
    "        fs_data = response.json()\n",
    "        for restaurant in fs_data['results']:\n",
    "            restaurant['bike_lat'] = row['latitude']\n",
    "            restaurant['bike_lon'] = row['longitude']\n",
    "            all_results.append(restaurant)\n",
    "    else:\n",
    "        print(f\"Error for {latlon}: {response.status_code}\")\n",
    "    time.sleep(0.2)"
   ]
  },
  {
   "cell_type": "markdown",
   "metadata": {},
   "source": [
    "Parse through the response to get the POI (such as restaurants, bars, etc) details you want (ratings, name, location, etc)"
   ]
  },
  {
   "cell_type": "code",
   "execution_count": 4,
   "metadata": {},
   "outputs": [],
   "source": [
    "# Retrieving coffee shops details such as name, address, and distance in meters\n",
    "# Using .get() in case a key doesnt exist and to prevent the code from crashing. \n",
    "name = [result.get('name')for result in all_results]\n",
    "address = [result.get('location', {}).get('address')for result in all_results]\n",
    "distance = [result.get('distance')for result in all_results] \n",
    "bike_lat = [result.get('bike_lat')for result in all_results]\n",
    "bike_lon = [result.get('bike_lon')for result in all_results]"
   ]
  },
  {
   "cell_type": "markdown",
   "metadata": {},
   "source": [
    "Put your parsed results into a DataFrame"
   ]
  },
  {
   "cell_type": "code",
   "execution_count": 37,
   "metadata": {},
   "outputs": [
    {
     "data": {
      "text/html": [
       "<div>\n",
       "<style scoped>\n",
       "    .dataframe tbody tr th:only-of-type {\n",
       "        vertical-align: middle;\n",
       "    }\n",
       "\n",
       "    .dataframe tbody tr th {\n",
       "        vertical-align: top;\n",
       "    }\n",
       "\n",
       "    .dataframe thead th {\n",
       "        text-align: right;\n",
       "    }\n",
       "</style>\n",
       "<table border=\"1\" class=\"dataframe\">\n",
       "  <thead>\n",
       "    <tr style=\"text-align: right;\">\n",
       "      <th></th>\n",
       "      <th>name</th>\n",
       "      <th>address</th>\n",
       "      <th>distance</th>\n",
       "      <th>bike_lat</th>\n",
       "      <th>bike_lon</th>\n",
       "    </tr>\n",
       "  </thead>\n",
       "  <tbody>\n",
       "    <tr>\n",
       "      <th>0</th>\n",
       "      <td>The Lovinspoon</td>\n",
       "      <td>13 N Frederick Street</td>\n",
       "      <td>331.745696</td>\n",
       "      <td>53.354929</td>\n",
       "      <td>-6.269425</td>\n",
       "    </tr>\n",
       "    <tr>\n",
       "      <th>1</th>\n",
       "      <td>La Pausa Cafe</td>\n",
       "      <td>1-B Blessington Street</td>\n",
       "      <td>287.411461</td>\n",
       "      <td>53.354929</td>\n",
       "      <td>-6.269425</td>\n",
       "    </tr>\n",
       "    <tr>\n",
       "      <th>2</th>\n",
       "      <td>Candy Café</td>\n",
       "      <td>Gardiner Row</td>\n",
       "      <td>421.882505</td>\n",
       "      <td>53.354929</td>\n",
       "      <td>-6.269425</td>\n",
       "    </tr>\n",
       "    <tr>\n",
       "      <th>3</th>\n",
       "      <td>Bleecker Street Cafe Bar</td>\n",
       "      <td>68 Dorset Street</td>\n",
       "      <td>421.257967</td>\n",
       "      <td>53.354929</td>\n",
       "      <td>-6.269425</td>\n",
       "    </tr>\n",
       "    <tr>\n",
       "      <th>4</th>\n",
       "      <td>Crispers Coffee Shop</td>\n",
       "      <td>6 Berkeley Road</td>\n",
       "      <td>359.005151</td>\n",
       "      <td>53.354929</td>\n",
       "      <td>-6.269425</td>\n",
       "    </tr>\n",
       "  </tbody>\n",
       "</table>\n",
       "</div>"
      ],
      "text/plain": [
       "                       name                 address    distance   bike_lat  \\\n",
       "0            The Lovinspoon   13 N Frederick Street  331.745696  53.354929   \n",
       "1             La Pausa Cafe  1-B Blessington Street  287.411461  53.354929   \n",
       "2                Candy Café            Gardiner Row  421.882505  53.354929   \n",
       "3  Bleecker Street Cafe Bar        68 Dorset Street  421.257967  53.354929   \n",
       "4      Crispers Coffee Shop         6 Berkeley Road  359.005151  53.354929   \n",
       "\n",
       "   bike_lon  \n",
       "0 -6.269425  \n",
       "1 -6.269425  \n",
       "2 -6.269425  \n",
       "3 -6.269425  \n",
       "4 -6.269425  "
      ]
     },
     "execution_count": 37,
     "metadata": {},
     "output_type": "execute_result"
    }
   ],
   "source": [
    "df_fs = pd.DataFrame({\n",
    "                        \"name\": name,\n",
    "                        \"address\": address,\n",
    "                        \"distance\": distance,\n",
    "                        \"bike_lat\": bike_lat,\n",
    "                        \"bike_lon\": bike_lon\n",
    "                    })\n",
    "df_fs.head()"
   ]
  },
  {
   "cell_type": "code",
   "execution_count": 6,
   "metadata": {},
   "outputs": [],
   "source": [
    "# Saving the df_fs dataframe as .csv\n",
    "df_fs.to_csv('foursquare.csv')"
   ]
  },
  {
   "cell_type": "markdown",
   "metadata": {},
   "source": [
    "# Yelp"
   ]
  },
  {
   "cell_type": "markdown",
   "metadata": {},
   "source": [
    "Send a request to Yelp with a small radius (1000m) for all the bike stations in your city of choice. "
   ]
  },
  {
   "cell_type": "code",
   "execution_count": 27,
   "metadata": {},
   "outputs": [],
   "source": [
    "df_dublin = pd.read_csv('/Users/ruu/documents/LHL/Project-Statistical-Modelling/data/dublin_bikes.csv')\n",
    "coordinates = df_dublin\n",
    "\n",
    "url = 'https://api.yelp.com/v3/businesses/search'\n",
    "api_key = os.environ['YELPTOKEN']\n",
    "headers = { \"accept\": \"application/json\",\n",
    "            \"Authorization\": f\"Bearer {api_key}\"\n",
    "          }\n",
    "\n",
    "all_businesses = []\n",
    "\n",
    "for idx, row in coordinates.iterrows():\n",
    "    latitude = row['latitude']\n",
    "    longitude = row['longitude']\n",
    "    params = { \"latitude\": latitude,\n",
    "               \"longitude\": longitude,\n",
    "               \"term\": \"coffee shops\",\n",
    "               \"radius\": 350,\n",
    "               \"limit\": 50 \n",
    "               \n",
    "             }\n",
    "    response = requests.get(url=url, headers=headers, params=params)\n",
    "    if response.status_code == 200:\n",
    "        yelp_data = response.json()\n",
    "        for business in yelp_data['businesses']:\n",
    "            business['bike_lat'] = latitude\n",
    "            business['bike_lon'] = longitude\n",
    "            all_businesses.append(business)\n",
    "    else:\n",
    "        print(f\"Error for {latlon}: {response.status_code}\")\n",
    "    time.sleep(0.2)"
   ]
  },
  {
   "cell_type": "markdown",
   "metadata": {},
   "source": [
    "Parse through the response to get the POI (such as restaurants, bars, etc) details you want (ratings, name, location, etc)"
   ]
  },
  {
   "cell_type": "code",
   "execution_count": 28,
   "metadata": {},
   "outputs": [],
   "source": [
    "name = [business.get('name')for business in all_businesses]\n",
    "address = [business.get('location', {}).get('address1')for business in all_businesses]\n",
    "distance = [business.get('distance')for business in all_businesses]\n",
    "rating = [business.get('rating')for business in all_businesses]\n",
    "bike_lat = [business.get('bike_lat')for business in all_businesses]\n",
    "bike_lon = [business.get('bike_lon')for business in all_businesses]"
   ]
  },
  {
   "cell_type": "markdown",
   "metadata": {},
   "source": [
    "Put your parsed results into a DataFrame"
   ]
  },
  {
   "cell_type": "code",
   "execution_count": 38,
   "metadata": {},
   "outputs": [
    {
     "data": {
      "text/html": [
       "<div>\n",
       "<style scoped>\n",
       "    .dataframe tbody tr th:only-of-type {\n",
       "        vertical-align: middle;\n",
       "    }\n",
       "\n",
       "    .dataframe tbody tr th {\n",
       "        vertical-align: top;\n",
       "    }\n",
       "\n",
       "    .dataframe thead th {\n",
       "        text-align: right;\n",
       "    }\n",
       "</style>\n",
       "<table border=\"1\" class=\"dataframe\">\n",
       "  <thead>\n",
       "    <tr style=\"text-align: right;\">\n",
       "      <th></th>\n",
       "      <th>name</th>\n",
       "      <th>address</th>\n",
       "      <th>distance</th>\n",
       "      <th>rating</th>\n",
       "      <th>bike_lat</th>\n",
       "      <th>bike_lon</th>\n",
       "    </tr>\n",
       "  </thead>\n",
       "  <tbody>\n",
       "    <tr>\n",
       "      <th>0</th>\n",
       "      <td>The Lovinspoon</td>\n",
       "      <td>13 N Frederick Street</td>\n",
       "      <td>331.745696</td>\n",
       "      <td>4.6</td>\n",
       "      <td>53.354929</td>\n",
       "      <td>-6.269425</td>\n",
       "    </tr>\n",
       "    <tr>\n",
       "      <th>1</th>\n",
       "      <td>La Pausa Cafe</td>\n",
       "      <td>1-B Blessington Street</td>\n",
       "      <td>287.411461</td>\n",
       "      <td>5.0</td>\n",
       "      <td>53.354929</td>\n",
       "      <td>-6.269425</td>\n",
       "    </tr>\n",
       "    <tr>\n",
       "      <th>2</th>\n",
       "      <td>Candy Café</td>\n",
       "      <td>Gardiner Row</td>\n",
       "      <td>421.882505</td>\n",
       "      <td>3.6</td>\n",
       "      <td>53.354929</td>\n",
       "      <td>-6.269425</td>\n",
       "    </tr>\n",
       "    <tr>\n",
       "      <th>3</th>\n",
       "      <td>Bleecker Street Cafe Bar</td>\n",
       "      <td>68 Dorset Street</td>\n",
       "      <td>421.257967</td>\n",
       "      <td>4.6</td>\n",
       "      <td>53.354929</td>\n",
       "      <td>-6.269425</td>\n",
       "    </tr>\n",
       "    <tr>\n",
       "      <th>4</th>\n",
       "      <td>Crispers Coffee Shop</td>\n",
       "      <td>6 Berkeley Road</td>\n",
       "      <td>359.005151</td>\n",
       "      <td>3.0</td>\n",
       "      <td>53.354929</td>\n",
       "      <td>-6.269425</td>\n",
       "    </tr>\n",
       "  </tbody>\n",
       "</table>\n",
       "</div>"
      ],
      "text/plain": [
       "                       name                 address    distance  rating  \\\n",
       "0            The Lovinspoon   13 N Frederick Street  331.745696     4.6   \n",
       "1             La Pausa Cafe  1-B Blessington Street  287.411461     5.0   \n",
       "2                Candy Café            Gardiner Row  421.882505     3.6   \n",
       "3  Bleecker Street Cafe Bar        68 Dorset Street  421.257967     4.6   \n",
       "4      Crispers Coffee Shop         6 Berkeley Road  359.005151     3.0   \n",
       "\n",
       "    bike_lat  bike_lon  \n",
       "0  53.354929 -6.269425  \n",
       "1  53.354929 -6.269425  \n",
       "2  53.354929 -6.269425  \n",
       "3  53.354929 -6.269425  \n",
       "4  53.354929 -6.269425  "
      ]
     },
     "execution_count": 38,
     "metadata": {},
     "output_type": "execute_result"
    }
   ],
   "source": [
    "df_yelp = pd.DataFrame({\n",
    "                        \"name\": name,\n",
    "                        \"address\": address,\n",
    "                        \"distance\": distance,\n",
    "                        \"rating\": rating,\n",
    "                        \"bike_lat\": bike_lat,\n",
    "                        \"bike_lon\": bike_lon\n",
    "                        })\n",
    "df_yelp.head()"
   ]
  },
  {
   "cell_type": "code",
   "execution_count": 36,
   "metadata": {},
   "outputs": [],
   "source": [
    "df_yelp.to_csv('yelp.csv')"
   ]
  },
  {
   "cell_type": "markdown",
   "metadata": {},
   "source": [
    "# Comparing Results"
   ]
  },
  {
   "cell_type": "markdown",
   "metadata": {},
   "source": [
    "Which API provided you with more complete data? Provide an explanation. "
   ]
  },
  {
   "cell_type": "markdown",
   "metadata": {},
   "source": [
    "The Yelp API returned a more detailed dataset compared to the Foursquare API. For each coffee shop, Yelp provided more meaningful attributes such as ratings, hours of operation, and price range — all of which add valuable context for analysis. In addition, using the same search parameters, the Yelp API returned a higher volume of results (4072 rows), indicating broader coverage and a more comprehensive capture of coffee shops within the specified area."
   ]
  },
  {
   "cell_type": "markdown",
   "metadata": {},
   "source": [
    "Get the top 10 restaurants according to their rating"
   ]
  },
  {
   "cell_type": "code",
   "execution_count": 39,
   "metadata": {},
   "outputs": [
    {
     "data": {
      "text/html": [
       "<div>\n",
       "<style scoped>\n",
       "    .dataframe tbody tr th:only-of-type {\n",
       "        vertical-align: middle;\n",
       "    }\n",
       "\n",
       "    .dataframe tbody tr th {\n",
       "        vertical-align: top;\n",
       "    }\n",
       "\n",
       "    .dataframe thead th {\n",
       "        text-align: right;\n",
       "    }\n",
       "</style>\n",
       "<table border=\"1\" class=\"dataframe\">\n",
       "  <thead>\n",
       "    <tr style=\"text-align: right;\">\n",
       "      <th></th>\n",
       "      <th>name</th>\n",
       "      <th>address</th>\n",
       "      <th>distance</th>\n",
       "      <th>rating</th>\n",
       "      <th>bike_lat</th>\n",
       "      <th>bike_lon</th>\n",
       "    </tr>\n",
       "  </thead>\n",
       "  <tbody>\n",
       "    <tr>\n",
       "      <th>2634</th>\n",
       "      <td>Café Jago's</td>\n",
       "      <td>59 Power's Court</td>\n",
       "      <td>591.055819</td>\n",
       "      <td>5.0</td>\n",
       "      <td>53.333653</td>\n",
       "      <td>-6.248345</td>\n",
       "    </tr>\n",
       "    <tr>\n",
       "      <th>3351</th>\n",
       "      <td>F Ronan</td>\n",
       "      <td>24 Eden Quay</td>\n",
       "      <td>111.752485</td>\n",
       "      <td>5.0</td>\n",
       "      <td>53.348279</td>\n",
       "      <td>-6.254662</td>\n",
       "    </tr>\n",
       "    <tr>\n",
       "      <th>777</th>\n",
       "      <td>Snax and the City</td>\n",
       "      <td>None</td>\n",
       "      <td>571.224028</td>\n",
       "      <td>5.0</td>\n",
       "      <td>53.343105</td>\n",
       "      <td>-6.277167</td>\n",
       "    </tr>\n",
       "    <tr>\n",
       "      <th>1935</th>\n",
       "      <td>La Pausa Cafe</td>\n",
       "      <td>1-B Blessington Street</td>\n",
       "      <td>186.102933</td>\n",
       "      <td>5.0</td>\n",
       "      <td>53.357043</td>\n",
       "      <td>-6.263232</td>\n",
       "    </tr>\n",
       "    <tr>\n",
       "      <th>3284</th>\n",
       "      <td>Starbucks</td>\n",
       "      <td>Bishops Square</td>\n",
       "      <td>352.109064</td>\n",
       "      <td>5.0</td>\n",
       "      <td>53.337494</td>\n",
       "      <td>-6.261990</td>\n",
       "    </tr>\n",
       "    <tr>\n",
       "      <th>3323</th>\n",
       "      <td>BOWLS by Kwanghi Chan</td>\n",
       "      <td>56 Marlborough St</td>\n",
       "      <td>145.261442</td>\n",
       "      <td>5.0</td>\n",
       "      <td>53.352149</td>\n",
       "      <td>-6.260533</td>\n",
       "    </tr>\n",
       "    <tr>\n",
       "      <th>3336</th>\n",
       "      <td>O'Briens Irish Sandwich Bar</td>\n",
       "      <td>Unit 1</td>\n",
       "      <td>261.028374</td>\n",
       "      <td>5.0</td>\n",
       "      <td>53.352149</td>\n",
       "      <td>-6.260533</td>\n",
       "    </tr>\n",
       "    <tr>\n",
       "      <th>3355</th>\n",
       "      <td>Nicks Coffee Company</td>\n",
       "      <td>7 Tara St</td>\n",
       "      <td>130.688534</td>\n",
       "      <td>5.0</td>\n",
       "      <td>53.348279</td>\n",
       "      <td>-6.254662</td>\n",
       "    </tr>\n",
       "    <tr>\n",
       "      <th>807</th>\n",
       "      <td>Gerard’s</td>\n",
       "      <td>81A Sir John Rogerson's Quay</td>\n",
       "      <td>137.139013</td>\n",
       "      <td>5.0</td>\n",
       "      <td>53.347777</td>\n",
       "      <td>-6.244239</td>\n",
       "    </tr>\n",
       "    <tr>\n",
       "      <th>1872</th>\n",
       "      <td>Zagros</td>\n",
       "      <td>1b Blessington Street Dublin 1</td>\n",
       "      <td>505.582057</td>\n",
       "      <td>5.0</td>\n",
       "      <td>53.359624</td>\n",
       "      <td>-6.260348</td>\n",
       "    </tr>\n",
       "  </tbody>\n",
       "</table>\n",
       "</div>"
      ],
      "text/plain": [
       "                             name                         address    distance  \\\n",
       "2634                  Café Jago's                59 Power's Court  591.055819   \n",
       "3351                      F Ronan                    24 Eden Quay  111.752485   \n",
       "777             Snax and the City                            None  571.224028   \n",
       "1935                La Pausa Cafe          1-B Blessington Street  186.102933   \n",
       "3284                    Starbucks                  Bishops Square  352.109064   \n",
       "3323        BOWLS by Kwanghi Chan               56 Marlborough St  145.261442   \n",
       "3336  O'Briens Irish Sandwich Bar                          Unit 1  261.028374   \n",
       "3355         Nicks Coffee Company                       7 Tara St  130.688534   \n",
       "807                      Gerard’s    81A Sir John Rogerson's Quay  137.139013   \n",
       "1872                       Zagros  1b Blessington Street Dublin 1  505.582057   \n",
       "\n",
       "      rating   bike_lat  bike_lon  \n",
       "2634     5.0  53.333653 -6.248345  \n",
       "3351     5.0  53.348279 -6.254662  \n",
       "777      5.0  53.343105 -6.277167  \n",
       "1935     5.0  53.357043 -6.263232  \n",
       "3284     5.0  53.337494 -6.261990  \n",
       "3323     5.0  53.352149 -6.260533  \n",
       "3336     5.0  53.352149 -6.260533  \n",
       "3355     5.0  53.348279 -6.254662  \n",
       "807      5.0  53.347777 -6.244239  \n",
       "1872     5.0  53.359624 -6.260348  "
      ]
     },
     "execution_count": 39,
     "metadata": {},
     "output_type": "execute_result"
    }
   ],
   "source": [
    "top_10_rated = df_yelp.sort_values(by='rating',ascending=False) # There are duplicates because the same coffee shop might be within the 350m radius of every bike station \n",
    "top_10_rated_unique = top_10_rated.drop_duplicates(subset=['name', 'address']).head(10)\n",
    "top_10_rated_unique"
   ]
  }
 ],
 "metadata": {
  "kernelspec": {
   "display_name": "Python 3 (ipykernel)",
   "language": "python",
   "name": "python3"
  },
  "language_info": {
   "codemirror_mode": {
    "name": "ipython",
    "version": 3
   },
   "file_extension": ".py",
   "mimetype": "text/x-python",
   "name": "python",
   "nbconvert_exporter": "python",
   "pygments_lexer": "ipython3",
   "version": "3.9.23"
  }
 },
 "nbformat": 4,
 "nbformat_minor": 4
}
