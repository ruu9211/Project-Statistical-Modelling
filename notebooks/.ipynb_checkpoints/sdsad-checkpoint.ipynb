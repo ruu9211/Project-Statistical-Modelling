{
 "cells": [
  {
   "cell_type": "markdown",
   "metadata": {},
   "source": [
    "# CityBikes"
   ]
  },
  {
   "cell_type": "markdown",
   "metadata": {},
   "source": [
    "Send a request to CityBikes for the city of your choice. "
   ]
  },
  {
   "cell_type": "code",
   "execution_count": 6,
   "metadata": {},
   "outputs": [],
   "source": [
    "import requests\n",
    "\n",
    "# Selecting Dublin, Ireland as the city of choice\n",
    "network_id = 'dublinbikes'\n",
    "url = 'http://api.citybik.es/v2/networks/' + network_id\n",
    "dublin_network_json = requests.get(url).json()"
   ]
  },
  {
   "cell_type": "markdown",
   "metadata": {},
   "source": [
    "Parse through the response to get the details you want for the bike stations in that city (latitude, longitude, number of bikes). "
   ]
  },
  {
   "cell_type": "code",
   "execution_count": 7,
   "metadata": {},
   "outputs": [],
   "source": [
    "# Assigning total_network variable to our dublin city bikes dataset\n",
    "total_network = dublin_network_json['network']['stations']\n",
    "\n",
    "# Parsing through the response to obtain name (as id), longitude, latitude, and number of bikes as total slots (i.e. total capacity) in a particular station\n",
    "names = [station['name']for station in total_network]\n",
    "longitude = [station['longitude']for station in total_network]\n",
    "latitude = [station['latitude']for station in total_network]\n",
    "num_bike_slots = [station['extra']['slots']for station in total_network]"
   ]
  },
  {
   "cell_type": "markdown",
   "metadata": {},
   "source": [
    "Put your parsed results into a DataFrame."
   ]
  },
  {
   "cell_type": "code",
   "execution_count": 8,
   "metadata": {},
   "outputs": [
    {
     "data": {
      "text/html": [
       "<div>\n",
       "<style scoped>\n",
       "    .dataframe tbody tr th:only-of-type {\n",
       "        vertical-align: middle;\n",
       "    }\n",
       "\n",
       "    .dataframe tbody tr th {\n",
       "        vertical-align: top;\n",
       "    }\n",
       "\n",
       "    .dataframe thead th {\n",
       "        text-align: right;\n",
       "    }\n",
       "</style>\n",
       "<table border=\"1\" class=\"dataframe\">\n",
       "  <thead>\n",
       "    <tr style=\"text-align: right;\">\n",
       "      <th></th>\n",
       "      <th></th>\n",
       "      <th>names</th>\n",
       "      <th>num_bike_slots</th>\n",
       "    </tr>\n",
       "    <tr>\n",
       "      <th>latitude</th>\n",
       "      <th>longitude</th>\n",
       "      <th></th>\n",
       "      <th></th>\n",
       "    </tr>\n",
       "  </thead>\n",
       "  <tbody>\n",
       "    <tr>\n",
       "      <th>53.354929</th>\n",
       "      <th>-6.269425</th>\n",
       "      <td>WESTERN WAY</td>\n",
       "      <td>40</td>\n",
       "    </tr>\n",
       "    <tr>\n",
       "      <th>53.349013</th>\n",
       "      <th>-6.260311</th>\n",
       "      <td>PRINCES STREET / O'CONNELL STREET</td>\n",
       "      <td>23</td>\n",
       "    </tr>\n",
       "    <tr>\n",
       "      <th>53.336074</th>\n",
       "      <th>-6.252825</th>\n",
       "      <td>FITZWILLIAM SQUARE WEST</td>\n",
       "      <td>30</td>\n",
       "    </tr>\n",
       "    <tr>\n",
       "      <th>53.351182</th>\n",
       "      <th>-6.269859</th>\n",
       "      <td>BOLTON STREET</td>\n",
       "      <td>20</td>\n",
       "    </tr>\n",
       "    <tr>\n",
       "      <th>53.354663</th>\n",
       "      <th>-6.278681</th>\n",
       "      <td>GRANGEGORMAN LOWER (SOUTH)</td>\n",
       "      <td>40</td>\n",
       "    </tr>\n",
       "    <tr>\n",
       "      <th>...</th>\n",
       "      <th>...</th>\n",
       "      <td>...</td>\n",
       "      <td>...</td>\n",
       "    </tr>\n",
       "    <tr>\n",
       "      <th>53.343456</th>\n",
       "      <th>-6.287409</th>\n",
       "      <td>JAMES STREET</td>\n",
       "      <td>40</td>\n",
       "    </tr>\n",
       "    <tr>\n",
       "      <th>53.345203</th>\n",
       "      <th>-6.247163</th>\n",
       "      <td>SANDWITH STREET</td>\n",
       "      <td>40</td>\n",
       "    </tr>\n",
       "    <tr>\n",
       "      <th>53.347884</th>\n",
       "      <th>-6.248048</th>\n",
       "      <td>CUSTOM HOUSE QUAY</td>\n",
       "      <td>30</td>\n",
       "    </tr>\n",
       "    <tr>\n",
       "      <th>53.344115</th>\n",
       "      <th>-6.237153</th>\n",
       "      <td>HANOVER QUAY</td>\n",
       "      <td>40</td>\n",
       "    </tr>\n",
       "    <tr>\n",
       "      <th>53.354845</th>\n",
       "      <th>-6.247579</th>\n",
       "      <td>KILLARNEY STREET</td>\n",
       "      <td>30</td>\n",
       "    </tr>\n",
       "  </tbody>\n",
       "</table>\n",
       "<p>115 rows × 2 columns</p>\n",
       "</div>"
      ],
      "text/plain": [
       "                                                 names  num_bike_slots\n",
       "latitude  longitude                                                   \n",
       "53.354929 -6.269425                        WESTERN WAY              40\n",
       "53.349013 -6.260311  PRINCES STREET / O'CONNELL STREET              23\n",
       "53.336074 -6.252825            FITZWILLIAM SQUARE WEST              30\n",
       "53.351182 -6.269859                      BOLTON STREET              20\n",
       "53.354663 -6.278681         GRANGEGORMAN LOWER (SOUTH)              40\n",
       "...                                                ...             ...\n",
       "53.343456 -6.287409                       JAMES STREET              40\n",
       "53.345203 -6.247163                    SANDWITH STREET              40\n",
       "53.347884 -6.248048                  CUSTOM HOUSE QUAY              30\n",
       "53.344115 -6.237153                       HANOVER QUAY              40\n",
       "53.354845 -6.247579                   KILLARNEY STREET              30\n",
       "\n",
       "[115 rows x 2 columns]"
      ]
     },
     "execution_count": 8,
     "metadata": {},
     "output_type": "execute_result"
    }
   ],
   "source": [
    "import pandas as pd\n",
    "\n",
    "df_dublin = pd.DataFrame({\n",
    "                          \"names\": names,\n",
    "                          \"latitude\": latitude,\n",
    "                          \"longitude\": longitude,\n",
    "                          \"num_bike_slots\": num_bike_slots\n",
    "                         })\n",
    "\n",
    "df_dublin = df_dublin.set_index(['latitude','longitude']) # Assigning the coordinates as an index\n",
    "df_dublin"
   ]
  },
  {
   "cell_type": "code",
   "execution_count": 9,
   "metadata": {},
   "outputs": [],
   "source": [
    "# Saving the df_dublin dataframe as .csv\n",
    "df_dublin.to_csv('dublin_bikes.csv')"
   ]
  }
 ],
 "metadata": {
  "kernelspec": {
   "display_name": "Python 3 (ipykernel)",
   "language": "python",
   "name": "python3"
  },
  "language_info": {
   "codemirror_mode": {
    "name": "ipython",
    "version": 3
   },
   "file_extension": ".py",
   "mimetype": "text/x-python",
   "name": "python",
   "nbconvert_exporter": "python",
   "pygments_lexer": "ipython3",
   "version": "3.9.23"
  }
 },
 "nbformat": 4,
 "nbformat_minor": 4
}
