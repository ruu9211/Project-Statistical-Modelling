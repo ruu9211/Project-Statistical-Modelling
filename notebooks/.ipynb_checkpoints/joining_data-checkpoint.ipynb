{
 "cells": [
  {
   "cell_type": "markdown",
   "metadata": {},
   "source": [
    "Join the data from Part 1 with the data from Part 2 to create a new dataframe."
   ]
  },
  {
   "cell_type": "code",
   "execution_count": 198,
   "metadata": {},
   "outputs": [
    {
     "data": {
      "text/html": [
       "<div>\n",
       "<style scoped>\n",
       "    .dataframe tbody tr th:only-of-type {\n",
       "        vertical-align: middle;\n",
       "    }\n",
       "\n",
       "    .dataframe tbody tr th {\n",
       "        vertical-align: top;\n",
       "    }\n",
       "\n",
       "    .dataframe thead th {\n",
       "        text-align: right;\n",
       "    }\n",
       "</style>\n",
       "<table border=\"1\" class=\"dataframe\">\n",
       "  <thead>\n",
       "    <tr style=\"text-align: right;\">\n",
       "      <th></th>\n",
       "      <th>latitude</th>\n",
       "      <th>longitude</th>\n",
       "      <th>names</th>\n",
       "      <th>num_bikes</th>\n",
       "      <th>num_venues</th>\n",
       "      <th>avg_rating</th>\n",
       "      <th>min_distance</th>\n",
       "    </tr>\n",
       "  </thead>\n",
       "  <tbody>\n",
       "    <tr>\n",
       "      <th>0</th>\n",
       "      <td>53.354929</td>\n",
       "      <td>-6.269425</td>\n",
       "      <td>WESTERN WAY</td>\n",
       "      <td>40</td>\n",
       "      <td>33</td>\n",
       "      <td>2.312121</td>\n",
       "      <td>109.440852</td>\n",
       "    </tr>\n",
       "    <tr>\n",
       "      <th>1</th>\n",
       "      <td>53.349013</td>\n",
       "      <td>-6.260311</td>\n",
       "      <td>PRINCES STREET / O'CONNELL STREET</td>\n",
       "      <td>23</td>\n",
       "      <td>50</td>\n",
       "      <td>4.140000</td>\n",
       "      <td>50.119272</td>\n",
       "    </tr>\n",
       "    <tr>\n",
       "      <th>2</th>\n",
       "      <td>53.336074</td>\n",
       "      <td>-6.252825</td>\n",
       "      <td>FITZWILLIAM SQUARE WEST</td>\n",
       "      <td>30</td>\n",
       "      <td>50</td>\n",
       "      <td>3.026000</td>\n",
       "      <td>105.914680</td>\n",
       "    </tr>\n",
       "    <tr>\n",
       "      <th>3</th>\n",
       "      <td>53.351182</td>\n",
       "      <td>-6.269859</td>\n",
       "      <td>BOLTON STREET</td>\n",
       "      <td>20</td>\n",
       "      <td>50</td>\n",
       "      <td>3.566000</td>\n",
       "      <td>18.786974</td>\n",
       "    </tr>\n",
       "    <tr>\n",
       "      <th>4</th>\n",
       "      <td>53.354663</td>\n",
       "      <td>-6.278681</td>\n",
       "      <td>GRANGEGORMAN LOWER (SOUTH)</td>\n",
       "      <td>40</td>\n",
       "      <td>7</td>\n",
       "      <td>4.357143</td>\n",
       "      <td>448.380658</td>\n",
       "    </tr>\n",
       "    <tr>\n",
       "      <th>...</th>\n",
       "      <td>...</td>\n",
       "      <td>...</td>\n",
       "      <td>...</td>\n",
       "      <td>...</td>\n",
       "      <td>...</td>\n",
       "      <td>...</td>\n",
       "      <td>...</td>\n",
       "    </tr>\n",
       "    <tr>\n",
       "      <th>110</th>\n",
       "      <td>53.343456</td>\n",
       "      <td>-6.287409</td>\n",
       "      <td>JAMES STREET</td>\n",
       "      <td>40</td>\n",
       "      <td>20</td>\n",
       "      <td>2.965000</td>\n",
       "      <td>80.784958</td>\n",
       "    </tr>\n",
       "    <tr>\n",
       "      <th>111</th>\n",
       "      <td>53.345203</td>\n",
       "      <td>-6.247163</td>\n",
       "      <td>SANDWITH STREET</td>\n",
       "      <td>40</td>\n",
       "      <td>50</td>\n",
       "      <td>3.652000</td>\n",
       "      <td>121.625181</td>\n",
       "    </tr>\n",
       "    <tr>\n",
       "      <th>112</th>\n",
       "      <td>53.347884</td>\n",
       "      <td>-6.248048</td>\n",
       "      <td>CUSTOM HOUSE QUAY</td>\n",
       "      <td>30</td>\n",
       "      <td>50</td>\n",
       "      <td>3.656000</td>\n",
       "      <td>25.236914</td>\n",
       "    </tr>\n",
       "    <tr>\n",
       "      <th>113</th>\n",
       "      <td>53.344115</td>\n",
       "      <td>-6.237153</td>\n",
       "      <td>HANOVER QUAY</td>\n",
       "      <td>40</td>\n",
       "      <td>31</td>\n",
       "      <td>3.329032</td>\n",
       "      <td>45.281511</td>\n",
       "    </tr>\n",
       "    <tr>\n",
       "      <th>114</th>\n",
       "      <td>53.354845</td>\n",
       "      <td>-6.247579</td>\n",
       "      <td>KILLARNEY STREET</td>\n",
       "      <td>30</td>\n",
       "      <td>11</td>\n",
       "      <td>2.863636</td>\n",
       "      <td>303.083239</td>\n",
       "    </tr>\n",
       "  </tbody>\n",
       "</table>\n",
       "<p>115 rows × 7 columns</p>\n",
       "</div>"
      ],
      "text/plain": [
       "      latitude  longitude                              names  num_bikes  \\\n",
       "0    53.354929  -6.269425                        WESTERN WAY         40   \n",
       "1    53.349013  -6.260311  PRINCES STREET / O'CONNELL STREET         23   \n",
       "2    53.336074  -6.252825            FITZWILLIAM SQUARE WEST         30   \n",
       "3    53.351182  -6.269859                      BOLTON STREET         20   \n",
       "4    53.354663  -6.278681         GRANGEGORMAN LOWER (SOUTH)         40   \n",
       "..         ...        ...                                ...        ...   \n",
       "110  53.343456  -6.287409                       JAMES STREET         40   \n",
       "111  53.345203  -6.247163                    SANDWITH STREET         40   \n",
       "112  53.347884  -6.248048                  CUSTOM HOUSE QUAY         30   \n",
       "113  53.344115  -6.237153                       HANOVER QUAY         40   \n",
       "114  53.354845  -6.247579                   KILLARNEY STREET         30   \n",
       "\n",
       "     num_venues  avg_rating  min_distance  \n",
       "0            33    2.312121    109.440852  \n",
       "1            50    4.140000     50.119272  \n",
       "2            50    3.026000    105.914680  \n",
       "3            50    3.566000     18.786974  \n",
       "4             7    4.357143    448.380658  \n",
       "..          ...         ...           ...  \n",
       "110          20    2.965000     80.784958  \n",
       "111          50    3.652000    121.625181  \n",
       "112          50    3.656000     25.236914  \n",
       "113          31    3.329032     45.281511  \n",
       "114          11    2.863636    303.083239  \n",
       "\n",
       "[115 rows x 7 columns]"
      ]
     },
     "execution_count": 198,
     "metadata": {},
     "output_type": "execute_result"
    }
   ],
   "source": [
    "import pandas as pd\n",
    "df_dublin = pd.read_csv('/Users/ruu/documents/LHL/Project-Statistical-Modelling/data/dublin.csv')\n",
    "df_yelp = pd.read_csv('/Users/ruu/documents/LHL/Project-Statistical-Modelling/data/yelp.csv', index_col=0)\n",
    "\n",
    "# Grouping df_yelp by the coordinates and calculating aggregate values\n",
    "df_agg = df_yelp.groupby(['bike_lat','bike_lon']).agg(num_venues=('name','count'),avg_rating=('rating','mean'), min_distance=('distance','min'))\n",
    "\n",
    "# Merging df_agg and df_dublin together using the coordinates as the keys\n",
    "df_final = pd.merge(df_dublin, df_agg, left_on=['latitude','longitude'], right_on=['bike_lat','bike_lon'], how='inner')\n",
    "df_final"
   ]
  },
  {
   "cell_type": "markdown",
   "metadata": {},
   "source": [
    "Provide a visualization that you used as part of your EDA process. Explain the initial pattern or relationship you discoved through this visualization. "
   ]
  },
  {
   "cell_type": "markdown",
   "metadata": {},
   "source": [
    "A series of scatter plots were created to explore potential relationships between the dependent variable (number of bikes available at each station) and the independent variables (number of nearby coffee shops, average coffee shop rating, and minimum distance to a coffee shop in meters). The visualizations did not reveal any clear patterns or trends, indicating no apparent linear relationship between the variables. Based on the visualizations, it looks like the correlation cofficient, r, for each pairing is close to zero."
   ]
  },
  {
   "cell_type": "code",
   "execution_count": 199,
   "metadata": {},
   "outputs": [
    {
     "data": {
      "text/plain": [
       "Text(0, 0.5, 'Number of Bikes')"
      ]
     },
     "execution_count": 199,
     "metadata": {},
     "output_type": "execute_result"
    },
    {
     "data": {
      "image/png": "[encoded data removed]",
      "text/plain": [
       "<Figure size 640x480 with 1 Axes>"
      ]
     },
     "metadata": {},
     "output_type": "display_data"
    }
   ],
   "source": [
    "import matplotlib.pyplot as plt\n",
    "plt.scatter(df_final['num_venues'], df_final['num_bikes'])\n",
    "plt.xlabel('Number of Coffee Shops')\n",
    "plt.ylabel('Number of Bikes')"
   ]
  },
  {
   "cell_type": "code",
   "execution_count": 200,
   "metadata": {},
   "outputs": [
    {
     "data": {
      "text/plain": [
       "Text(0, 0.5, 'Number of Bikes')"
      ]
     },
     "execution_count": 200,
     "metadata": {},
     "output_type": "execute_result"
    },
    {
     "data": {
      "image/png": "[encoded data removed]",
      "text/plain": [
       "<Figure size 640x480 with 1 Axes>"
      ]
     },
     "metadata": {},
     "output_type": "display_data"
    }
   ],
   "source": [
    "import matplotlib.pyplot as plt\n",
    "plt.scatter(df_final['avg_rating'], df_final['num_bikes'])\n",
    "plt.xlabel('Average Rating of Coffee Shops')\n",
    "plt.ylabel('Number of Bikes')"
   ]
  },
  {
   "cell_type": "code",
   "execution_count": 201,
   "metadata": {},
   "outputs": [
    {
     "data": {
      "text/plain": [
       "Text(0, 0.5, 'Number of Bikes')"
      ]
     },
     "execution_count": 201,
     "metadata": {},
     "output_type": "execute_result"
    },
    {
     "data": {
      "image/png": "[encoded data removed]",
      "text/plain": [
       "<Figure size 640x480 with 1 Axes>"
      ]
     },
     "metadata": {},
     "output_type": "display_data"
    }
   ],
   "source": [
    "import matplotlib.pyplot as plt\n",
    "plt.scatter(df_final['min_distance'], df_final['num_bikes'])\n",
    "plt.xlabel('Min Distance to a Coffee Shop (m)')\n",
    "plt.ylabel('Number of Bikes')"
   ]
  },
  {
   "cell_type": "markdown",
   "metadata": {},
   "source": [
    "# Database"
   ]
  },
  {
   "cell_type": "markdown",
   "metadata": {},
   "source": [
    "Put all your results in an SQLite3 database (remember, SQLite stores its databases as files in your local machine - make sure to create your database in your project's data/ directory!)"
   ]
  },
  {
   "cell_type": "code",
   "execution_count": 202,
   "metadata": {},
   "outputs": [
    {
     "data": {
      "text/plain": [
       "115"
      ]
     },
     "execution_count": 202,
     "metadata": {},
     "output_type": "execute_result"
    }
   ],
   "source": [
    "import pandas as pd\n",
    "import sqlite3\n",
    "\n",
    "conn = sqlite3.connect('/Users/ruu/documents/LHL/Project-Statistical-Modelling/data/project_2.db')\n",
    "\n",
    "df_agg.to_sql(name='yelp_agg', con=conn, if_exists='replace',index=True)\n",
    "df_dublin.to_sql(name='dublin', con=conn, if_exists='replace',index=False)\n"
   ]
  },
  {
   "cell_type": "markdown",
   "metadata": {},
   "source": [
    "Look at the data before and after the join to validate your data."
   ]
  },
  {
   "cell_type": "code",
   "execution_count": 203,
   "metadata": {},
   "outputs": [
    {
     "name": "stdout",
     "output_type": "stream",
     "text": [
      "   total_rows\n",
      "0         115\n",
      "   total_rows\n",
      "0         115\n"
     ]
    }
   ],
   "source": [
    "# Number of rows in df_dublin and df_agg from before the join are identical\n",
    "print(pd.read_sql('SELECT COUNT(*) AS total_rows FROM dublin;', conn))\n",
    "print(pd.read_sql('SELECT COUNT(*) AS total_rows FROM yelp_agg;', conn))"
   ]
  },
  {
   "cell_type": "code",
   "execution_count": 204,
   "metadata": {},
   "outputs": [
    {
     "name": "stdout",
     "output_type": "stream",
     "text": [
      "      latitude  longitude  num_bikes                              names  \\\n",
      "0    53.354929  -6.269425         40                        WESTERN WAY   \n",
      "1    53.349013  -6.260311         23  PRINCES STREET / O'CONNELL STREET   \n",
      "2    53.336074  -6.252825         30            FITZWILLIAM SQUARE WEST   \n",
      "3    53.351182  -6.269859         20                      BOLTON STREET   \n",
      "4    53.354663  -6.278681         40         GRANGEGORMAN LOWER (SOUTH)   \n",
      "..         ...        ...        ...                                ...   \n",
      "110  53.343456  -6.287409         40                       JAMES STREET   \n",
      "111  53.345203  -6.247163         40                    SANDWITH STREET   \n",
      "112  53.347884  -6.248048         30                  CUSTOM HOUSE QUAY   \n",
      "113  53.344115  -6.237153         40                       HANOVER QUAY   \n",
      "114  53.354845  -6.247579         30                   KILLARNEY STREET   \n",
      "\n",
      "     num_venues  avg_rating  min_distance  \n",
      "0            33    2.312121    109.440852  \n",
      "1            50    4.140000     50.119272  \n",
      "2            50    3.026000    105.914680  \n",
      "3            50    3.566000     18.786974  \n",
      "4             7    4.357143    448.380658  \n",
      "..          ...         ...           ...  \n",
      "110          20    2.965000     80.784958  \n",
      "111          50    3.652000    121.625181  \n",
      "112          50    3.656000     25.236914  \n",
      "113          31    3.329032     45.281511  \n",
      "114          11    2.863636    303.083239  \n",
      "\n",
      "[115 rows x 7 columns]\n"
     ]
    }
   ],
   "source": [
    "# Data after the join are also identical\n",
    "query = \"\"\"\n",
    "SELECT  d.latitude, \n",
    "        d.longitude, \n",
    "        d.num_bikes,\n",
    "        d.names,\n",
    "        y.num_venues,\n",
    "        y.avg_rating, \n",
    "        y.min_distance\n",
    "FROM    yelp_agg as y\n",
    "        JOIN dublin as d\n",
    "        ON d.latitude=y.bike_lat AND d.longitude=y.bike_lon\n",
    ";\n",
    "\"\"\"\n",
    "print(pd.read_sql(query, conn))"
   ]
  }
 ],
 "metadata": {
  "kernelspec": {
   "display_name": "Python 3 (ipykernel)",
   "language": "python",
   "name": "python3"
  },
  "language_info": {
   "codemirror_mode": {
    "name": "ipython",
    "version": 3
   },
   "file_extension": ".py",
   "mimetype": "text/x-python",
   "name": "python",
   "nbconvert_exporter": "python",
   "pygments_lexer": "ipython3",
   "version": "3.9.23"
  }
 },
 "nbformat": 4,
 "nbformat_minor": 4
}
