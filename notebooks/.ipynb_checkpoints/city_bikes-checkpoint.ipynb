{
 "cells": [
  {
   "cell_type": "markdown",
   "metadata": {},
   "source": [
    "# CityBikes"
   ]
  },
  {
   "cell_type": "markdown",
   "metadata": {},
   "source": [
    "Send a request to CityBikes for the city of your choice. "
   ]
  },
  {
   "cell_type": "code",
   "execution_count": 2,
   "metadata": {},
   "outputs": [],
   "source": [
    "import requests\n",
    "\n",
    "# Selecting Dublin, Ireland as the city of choice\n",
    "network_id = 'dublinbikes'\n",
    "url = 'http://api.citybik.es/v2/networks/' + network_id\n",
    "dublin_network_json = requests.get(url).json()"
   ]
  },
  {
   "cell_type": "markdown",
   "metadata": {},
   "source": [
    "Parse through the response to get the details you want for the bike stations in that city (latitude, longitude, number of bikes). "
   ]
  },
  {
   "cell_type": "code",
   "execution_count": 3,
   "metadata": {},
   "outputs": [],
   "source": [
    "# Assigning total_network variable to our dublin city bikes dataset\n",
    "total_network = dublin_network_json['network']['stations']\n",
    "\n",
    "# Parsing through the response to obtain name (as id), longitude, latitude, and number of bikes as total slots in a particular station\n",
    "names = [station['name']for station in total_network]\n",
    "longitude = [station['longitude']for station in total_network]\n",
    "latitude = [station['latitude']for station in total_network]\n",
    "num_bikes = [station['extra']['slots']for station in total_network]"
   ]
  },
  {
   "cell_type": "markdown",
   "metadata": {},
   "source": [
    "Put your parsed results into a DataFrame."
   ]
  },
  {
   "cell_type": "code",
   "execution_count": 4,
   "metadata": {},
   "outputs": [
    {
     "data": {
      "text/html": [
       "<div>\n",
       "<style scoped>\n",
       "    .dataframe tbody tr th:only-of-type {\n",
       "        vertical-align: middle;\n",
       "    }\n",
       "\n",
       "    .dataframe tbody tr th {\n",
       "        vertical-align: top;\n",
       "    }\n",
       "\n",
       "    .dataframe thead th {\n",
       "        text-align: right;\n",
       "    }\n",
       "</style>\n",
       "<table border=\"1\" class=\"dataframe\">\n",
       "  <thead>\n",
       "    <tr style=\"text-align: right;\">\n",
       "      <th></th>\n",
       "      <th>names</th>\n",
       "      <th>latitude</th>\n",
       "      <th>longitude</th>\n",
       "      <th>num_bikes</th>\n",
       "    </tr>\n",
       "  </thead>\n",
       "  <tbody>\n",
       "    <tr>\n",
       "      <th>0</th>\n",
       "      <td>WESTERN WAY</td>\n",
       "      <td>53.354929</td>\n",
       "      <td>-6.269425</td>\n",
       "      <td>40</td>\n",
       "    </tr>\n",
       "    <tr>\n",
       "      <th>1</th>\n",
       "      <td>PRINCES STREET / O'CONNELL STREET</td>\n",
       "      <td>53.349013</td>\n",
       "      <td>-6.260311</td>\n",
       "      <td>23</td>\n",
       "    </tr>\n",
       "    <tr>\n",
       "      <th>2</th>\n",
       "      <td>FITZWILLIAM SQUARE WEST</td>\n",
       "      <td>53.336074</td>\n",
       "      <td>-6.252825</td>\n",
       "      <td>30</td>\n",
       "    </tr>\n",
       "    <tr>\n",
       "      <th>3</th>\n",
       "      <td>BOLTON STREET</td>\n",
       "      <td>53.351182</td>\n",
       "      <td>-6.269859</td>\n",
       "      <td>20</td>\n",
       "    </tr>\n",
       "    <tr>\n",
       "      <th>4</th>\n",
       "      <td>GRANGEGORMAN LOWER (SOUTH)</td>\n",
       "      <td>53.354663</td>\n",
       "      <td>-6.278681</td>\n",
       "      <td>40</td>\n",
       "    </tr>\n",
       "    <tr>\n",
       "      <th>...</th>\n",
       "      <td>...</td>\n",
       "      <td>...</td>\n",
       "      <td>...</td>\n",
       "      <td>...</td>\n",
       "    </tr>\n",
       "    <tr>\n",
       "      <th>110</th>\n",
       "      <td>JAMES STREET</td>\n",
       "      <td>53.343456</td>\n",
       "      <td>-6.287409</td>\n",
       "      <td>40</td>\n",
       "    </tr>\n",
       "    <tr>\n",
       "      <th>111</th>\n",
       "      <td>SANDWITH STREET</td>\n",
       "      <td>53.345203</td>\n",
       "      <td>-6.247163</td>\n",
       "      <td>40</td>\n",
       "    </tr>\n",
       "    <tr>\n",
       "      <th>112</th>\n",
       "      <td>CUSTOM HOUSE QUAY</td>\n",
       "      <td>53.347884</td>\n",
       "      <td>-6.248048</td>\n",
       "      <td>30</td>\n",
       "    </tr>\n",
       "    <tr>\n",
       "      <th>113</th>\n",
       "      <td>HANOVER QUAY</td>\n",
       "      <td>53.344115</td>\n",
       "      <td>-6.237153</td>\n",
       "      <td>40</td>\n",
       "    </tr>\n",
       "    <tr>\n",
       "      <th>114</th>\n",
       "      <td>KILLARNEY STREET</td>\n",
       "      <td>53.354845</td>\n",
       "      <td>-6.247579</td>\n",
       "      <td>30</td>\n",
       "    </tr>\n",
       "  </tbody>\n",
       "</table>\n",
       "<p>115 rows × 4 columns</p>\n",
       "</div>"
      ],
      "text/plain": [
       "                                 names   latitude  longitude  num_bikes\n",
       "0                          WESTERN WAY  53.354929  -6.269425         40\n",
       "1    PRINCES STREET / O'CONNELL STREET  53.349013  -6.260311         23\n",
       "2              FITZWILLIAM SQUARE WEST  53.336074  -6.252825         30\n",
       "3                        BOLTON STREET  53.351182  -6.269859         20\n",
       "4           GRANGEGORMAN LOWER (SOUTH)  53.354663  -6.278681         40\n",
       "..                                 ...        ...        ...        ...\n",
       "110                       JAMES STREET  53.343456  -6.287409         40\n",
       "111                    SANDWITH STREET  53.345203  -6.247163         40\n",
       "112                  CUSTOM HOUSE QUAY  53.347884  -6.248048         30\n",
       "113                       HANOVER QUAY  53.344115  -6.237153         40\n",
       "114                   KILLARNEY STREET  53.354845  -6.247579         30\n",
       "\n",
       "[115 rows x 4 columns]"
      ]
     },
     "execution_count": 4,
     "metadata": {},
     "output_type": "execute_result"
    }
   ],
   "source": [
    "import pandas as pd\n",
    "\n",
    "df_dublin = pd.DataFrame({\n",
    "                          \"names\": names,\n",
    "                          \"latitude\": latitude,\n",
    "                          \"longitude\": longitude,\n",
    "                          \"num_bikes\": num_bikes\n",
    "                         })\n",
    "\n",
    "df_dublin"
   ]
  },
  {
   "cell_type": "code",
   "execution_count": 4,
   "metadata": {},
   "outputs": [],
   "source": [
    "# Saving the df_dublin dataframe as .csv\n",
    "df_dublin.to_csv('dublin.csv')"
   ]
  },
  {
   "cell_type": "code",
   "execution_count": null,
   "metadata": {},
   "outputs": [],
   "source": []
  }
 ],
 "metadata": {
  "kernelspec": {
   "display_name": "Python 3 (ipykernel)",
   "language": "python",
   "name": "python3"
  },
  "language_info": {
   "codemirror_mode": {
    "name": "ipython",
    "version": 3
   },
   "file_extension": ".py",
   "mimetype": "text/x-python",
   "name": "python",
   "nbconvert_exporter": "python",
   "pygments_lexer": "ipython3",
   "version": "3.9.23"
  }
 },
 "nbformat": 4,
 "nbformat_minor": 4
}
