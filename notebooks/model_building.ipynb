{
 "cells": [
  {
   "cell_type": "markdown",
   "metadata": {},
   "source": [
    "Build a regression model."
   ]
  },
  {
   "cell_type": "code",
   "execution_count": 42,
   "metadata": {},
   "outputs": [],
   "source": [
    "import pandas as pd\n",
    "import statsmodels.api as sm\n",
    "\n",
    "# Retrieve the df_final_combined csv\n",
    "df_final_combined = pd.read_csv('/Users/ruu/documents/LHL/Project-Statistical-Modelling/data/final_combined.csv',index_col=0)\n",
    "\n",
    "# The X values (i.e. independent variable) for the multivariate regression analysis are the following:\n",
    "X = df_final_combined.loc[:, ['num_shops', 'avg_rating', 'min_distance']]\n",
    "\n",
    "# The y values (i.e. dependent variable) for the multivariate regression analysis is the following:\n",
    "y = df_final_combined['num_bike_slots']"
   ]
  },
  {
   "cell_type": "code",
   "execution_count": 43,
   "metadata": {},
   "outputs": [
    {
     "data": {
      "text/html": [
       "<div>\n",
       "<style scoped>\n",
       "    .dataframe tbody tr th:only-of-type {\n",
       "        vertical-align: middle;\n",
       "    }\n",
       "\n",
       "    .dataframe tbody tr th {\n",
       "        vertical-align: top;\n",
       "    }\n",
       "\n",
       "    .dataframe thead th {\n",
       "        text-align: right;\n",
       "    }\n",
       "</style>\n",
       "<table border=\"1\" class=\"dataframe\">\n",
       "  <thead>\n",
       "    <tr style=\"text-align: right;\">\n",
       "      <th></th>\n",
       "      <th>num_shops</th>\n",
       "      <th>avg_rating</th>\n",
       "      <th>min_distance</th>\n",
       "    </tr>\n",
       "  </thead>\n",
       "  <tbody>\n",
       "    <tr>\n",
       "      <th>0</th>\n",
       "      <td>21</td>\n",
       "      <td>3.633333</td>\n",
       "      <td>209.920901</td>\n",
       "    </tr>\n",
       "    <tr>\n",
       "      <th>1</th>\n",
       "      <td>50</td>\n",
       "      <td>4.142000</td>\n",
       "      <td>50.119272</td>\n",
       "    </tr>\n",
       "    <tr>\n",
       "      <th>2</th>\n",
       "      <td>42</td>\n",
       "      <td>3.602381</td>\n",
       "      <td>105.914680</td>\n",
       "    </tr>\n",
       "    <tr>\n",
       "      <th>3</th>\n",
       "      <td>43</td>\n",
       "      <td>3.974419</td>\n",
       "      <td>135.167919</td>\n",
       "    </tr>\n",
       "    <tr>\n",
       "      <th>4</th>\n",
       "      <td>7</td>\n",
       "      <td>4.357143</td>\n",
       "      <td>448.380658</td>\n",
       "    </tr>\n",
       "  </tbody>\n",
       "</table>\n",
       "</div>"
      ],
      "text/plain": [
       "   num_shops  avg_rating  min_distance\n",
       "0         21    3.633333    209.920901\n",
       "1         50    4.142000     50.119272\n",
       "2         42    3.602381    105.914680\n",
       "3         43    3.974419    135.167919\n",
       "4          7    4.357143    448.380658"
      ]
     },
     "execution_count": 43,
     "metadata": {},
     "output_type": "execute_result"
    }
   ],
   "source": [
    "# Print and inspect the top 5 rows of X to confirm results\n",
    "X.head()"
   ]
  },
  {
   "cell_type": "code",
   "execution_count": 44,
   "metadata": {},
   "outputs": [
    {
     "data": {
      "text/plain": [
       "0    40\n",
       "1    23\n",
       "2    30\n",
       "3    20\n",
       "4    40\n",
       "Name: num_bike_slots, dtype: int64"
      ]
     },
     "execution_count": 44,
     "metadata": {},
     "output_type": "execute_result"
    }
   ],
   "source": [
    "# Similarly for y values\n",
    "y.head()"
   ]
  },
  {
   "cell_type": "code",
   "execution_count": 45,
   "metadata": {},
   "outputs": [],
   "source": [
    "X = sm.add_constant(X)\n",
    "lin_reg = sm.OLS(y,X)\n",
    "model = lin_reg.fit()\n",
    "print_model = model.summary()"
   ]
  },
  {
   "cell_type": "markdown",
   "metadata": {},
   "source": [
    "Provide model output and an interpretation of the results. "
   ]
  },
  {
   "cell_type": "code",
   "execution_count": 46,
   "metadata": {},
   "outputs": [
    {
     "name": "stdout",
     "output_type": "stream",
     "text": [
      "                            OLS Regression Results                            \n",
      "==============================================================================\n",
      "Dep. Variable:         num_bike_slots   R-squared:                       0.108\n",
      "Model:                            OLS   Adj. R-squared:                  0.084\n",
      "Method:                 Least Squares   F-statistic:                     4.472\n",
      "Date:                Sat, 26 Jul 2025   Prob (F-statistic):            0.00528\n",
      "Time:                        14:14:21   Log-Likelihood:                -388.25\n",
      "No. Observations:                 115   AIC:                             784.5\n",
      "Df Residuals:                     111   BIC:                             795.5\n",
      "Df Model:                           3                                         \n",
      "Covariance Type:            nonrobust                                         \n",
      "================================================================================\n",
      "                   coef    std err          t      P>|t|      [0.025      0.975]\n",
      "--------------------------------------------------------------------------------\n",
      "const           40.6223     13.153      3.088      0.003      14.558      66.687\n",
      "num_shops       -0.1384      0.052     -2.642      0.009      -0.242      -0.035\n",
      "avg_rating      -1.1774      3.391     -0.347      0.729      -7.898       5.543\n",
      "min_distance     0.0021      0.008      0.247      0.806      -0.015       0.019\n",
      "==============================================================================\n",
      "Omnibus:                       14.380   Durbin-Watson:                   2.040\n",
      "Prob(Omnibus):                  0.001   Jarque-Bera (JB):                6.048\n",
      "Skew:                          -0.316   Prob(JB):                       0.0486\n",
      "Kurtosis:                       2.071   Cond. No.                     3.12e+03\n",
      "==============================================================================\n",
      "\n",
      "Notes:\n",
      "[1] Standard Errors assume that the covariance matrix of the errors is correctly specified.\n",
      "[2] The condition number is large, 3.12e+03. This might indicate that there are\n",
      "strong multicollinearity or other numerical problems.\n"
     ]
    }
   ],
   "source": [
    "print(print_model)"
   ]
  },
  {
   "cell_type": "markdown",
   "metadata": {},
   "source": [
    "The above model shows that out of the 3 independent variables explored, only the number of nearby coffee shops (num_shops) shows a statistically significant relationship with the number of bike slots at a station since the p-value is less than 0.05. The coefficient for num_shops is -0.1384, meaning that for each additional coffee shop within the specified radius, the model predicts a slight decrease of about 0.14 bike slots. In contrast, avg_rating (coefficient = -1.1774, p = 0.729) and min_distance (coefficient = 0.0021, p = 0.806) are satistically insignificant since the p-values are more than 0.05. Overall, the model explains approximately 8.4% (adjusted R-squared value) of the variation in bike slots, which suggests that other unmeasured factors are likely influencing bike slot counts. While the model is statistically significant as a whole (since the prob (F-statistic) is 0.00528), the small coefficients and low adjusted R-squared value suggest that it may not be very reliable for predicting bike slots."
   ]
  },
  {
   "cell_type": "markdown",
   "metadata": {},
   "source": [
    "# Stretch"
   ]
  },
  {
   "cell_type": "markdown",
   "metadata": {},
   "source": [
    "How can you turn the regression model into a classification model?"
   ]
  },
  {
   "cell_type": "markdown",
   "metadata": {},
   "source": [
    "The dependent variable (num_bike_slots) can be turned into a categorial classification - for example, we can categorize the num_bike_slots per given area as per following:\n",
    "    a. 0-15 slots are low (0)\n",
    "    b. 16-30 slots are medium (1)\n",
    "    c. 31-45 slots are high (2)\n",
    "\n",
    "After which we can apply multinomial regression to model the relationship between the independent variables and the categorization of the bike slots.\n"
   ]
  }
 ],
 "metadata": {
  "kernelspec": {
   "display_name": "Python 3 (ipykernel)",
   "language": "python",
   "name": "python3"
  },
  "language_info": {
   "codemirror_mode": {
    "name": "ipython",
    "version": 3
   },
   "file_extension": ".py",
   "mimetype": "text/x-python",
   "name": "python",
   "nbconvert_exporter": "python",
   "pygments_lexer": "ipython3",
   "version": "3.9.23"
  }
 },
 "nbformat": 4,
 "nbformat_minor": 4
}
